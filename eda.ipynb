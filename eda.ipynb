{
 "cells": [
  {
   "cell_type": "code",
   "execution_count": 2,
   "metadata": {},
   "outputs": [],
   "source": [
    "import numpy as np\n",
    "import pandas as pd"
   ]
  },
  {
   "cell_type": "markdown",
   "metadata": {},
   "source": [
    "# Analyzing the ASAP 2.0 Dataset for Automatic Essay Grading"
   ]
  },
  {
   "cell_type": "code",
   "execution_count": 5,
   "metadata": {},
   "outputs": [
    {
     "name": "stdout",
     "output_type": "stream",
     "text": [
      "               essay_id  score  \\\n",
      "0  AAAVUP14319000159574      4   \n",
      "1  AAAVUP14319000159542      2   \n",
      "2  AAAVUP14319000159420      2   \n",
      "\n",
      "                                           full_text  \\\n",
      "0  The author suggests that studying Venus is wor...   \n",
      "1  NASA is fighting to be alble to to go to Venus...   \n",
      "2  The author supports this idea because from rea...   \n",
      "\n",
      "                                          assignment      prompt_name  \\\n",
      "0  In \"The Challenge of Exploring Venus,\" the aut...  Exploring Venus   \n",
      "1  In \"The Challenge of Exploring Venus,\" the aut...  Exploring Venus   \n",
      "2  In \"The Challenge of Exploring Venus,\" the aut...  Exploring Venus   \n",
      "\n",
      "       economically_disadvantaged            student_disability_status  \\\n",
      "0      Economically disadvantaged      Identified as having disability   \n",
      "1  Not economically disadvantaged  Not identified as having disability   \n",
      "2      Economically disadvantaged  Not identified as having disability   \n",
      "\n",
      "  ell_status          race_ethnicity gender  grade_level  essay_word_count  \n",
      "0         No  Black/African American      F         10.0             409.0  \n",
      "1         No         Hispanic/Latino      F         10.0             197.0  \n",
      "2        Yes         Hispanic/Latino      F         10.0             209.0  \n"
     ]
    }
   ],
   "source": [
    "\n",
    "# Load the data into a pandas data frame\n",
    "df = pd.read_csv(\"ASAP2_competitiondf_with-metadata_TheLearningExchange-trainonly.csv\")\n",
    "\n",
    "# Check top few rows\n",
    "print(df.head(3))"
   ]
  }
 ],
 "metadata": {
  "kernelspec": {
   "display_name": "Python 3",
   "language": "python",
   "name": "python3"
  },
  "language_info": {
   "codemirror_mode": {
    "name": "ipython",
    "version": 3
   },
   "file_extension": ".py",
   "mimetype": "text/x-python",
   "name": "python",
   "nbconvert_exporter": "python",
   "pygments_lexer": "ipython3",
   "version": "3.11.9"
  }
 },
 "nbformat": 4,
 "nbformat_minor": 2
}
